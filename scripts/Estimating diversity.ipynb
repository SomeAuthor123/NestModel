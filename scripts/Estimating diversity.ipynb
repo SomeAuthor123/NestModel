{
 "cells": [
  {
   "cell_type": "code",
   "execution_count": null,
   "metadata": {},
   "outputs": [],
   "source": [
    "from pathlib import Path\n",
    "from cc_model.load_datasets import load_gt_dataset_cached\n",
    "\n",
    "\n",
    "import graph_tool.all as gt\n",
    "from cc_model.wl import WL, labelings_are_equivalent\n",
    "from cc_model.fast_graph import FastGraph\n",
    "import numpy as np\n",
    "from datetime import datetime\n",
    "import pickle\n",
    "import matplotlib.pyplot as plt"
   ]
  },
  {
   "cell_type": "code",
   "execution_count": null,
   "metadata": {},
   "outputs": [],
   "source": []
  },
  {
   "cell_type": "code",
   "execution_count": null,
   "metadata": {},
   "outputs": [],
   "source": [
    "dataset_path = Path(\"/home/felix/projects/colorful_configuration/datasets\")"
   ]
  },
  {
   "cell_type": "code",
   "execution_count": null,
   "metadata": {},
   "outputs": [],
   "source": [
    "from cc_model.fast_graph import switch_in_out"
   ]
  },
  {
   "cell_type": "code",
   "execution_count": null,
   "metadata": {},
   "outputs": [],
   "source": []
  },
  {
   "cell_type": "code",
   "execution_count": null,
   "metadata": {},
   "outputs": [],
   "source": []
  },
  {
   "cell_type": "code",
   "execution_count": null,
   "metadata": {},
   "outputs": [],
   "source": [
    "G_base = load_gt_dataset_cached(dataset_path,\n",
    "                                \"web-Google\",\n",
    "                                verbosity=1,\n",
    "                                force_reload=False)\n",
    "edges = np.array(G_base.get_edges(), dtype=np.uint32)\n",
    "\n",
    "G = FastGraph(edges, G_base.is_directed())"
   ]
  },
  {
   "cell_type": "code",
   "execution_count": null,
   "metadata": {},
   "outputs": [],
   "source": [
    "log = np.log10\n",
    "e=np.exp(1)\n",
    "import math\n",
    "#float(math.factorial(1000))"
   ]
  },
  {
   "cell_type": "code",
   "execution_count": null,
   "metadata": {},
   "outputs": [],
   "source": [
    "def stirling(n):\n",
    "    v = log(np.sqrt(2*np.pi*n))\n",
    "    v += n*log(n/e)\n",
    "    return v"
   ]
  },
  {
   "cell_type": "code",
   "execution_count": null,
   "metadata": {},
   "outputs": [],
   "source": [
    "for i in [100,110]:\n",
    "    print(log(float(math.factorial(i)))/stirling(i))"
   ]
  },
  {
   "cell_type": "code",
   "execution_count": null,
   "metadata": {},
   "outputs": [],
   "source": [
    "if False:\n",
    "    n = float(edges.max())\n",
    "\n",
    "    v = stirling(G.in_degree.sum())\n",
    "    for i in G.in_degree:\n",
    "        if i>0:\n",
    "            if i>100:\n",
    "                v-= stirling(i)\n",
    "            else:\n",
    "                v-=log(float(math.factorial(i)))\n",
    "    print(v)\n",
    "    for i in G.out_degree:\n",
    "        if i>0:\n",
    "            if i>100:\n",
    "                v-= stirling(i)\n",
    "            else:\n",
    "                v-=log(float(math.factorial(i)))\n",
    "    print(v)"
   ]
  },
  {
   "cell_type": "code",
   "execution_count": null,
   "metadata": {},
   "outputs": [],
   "source": []
  },
  {
   "cell_type": "code",
   "execution_count": null,
   "metadata": {},
   "outputs": [],
   "source": [
    "log(math.factorial(19))"
   ]
  },
  {
   "cell_type": "code",
   "execution_count": null,
   "metadata": {},
   "outputs": [],
   "source": [
    "colors = G.calc_wl()[-1]"
   ]
  },
  {
   "cell_type": "code",
   "execution_count": null,
   "metadata": {},
   "outputs": [],
   "source": [
    "from cc_model.wl import *"
   ]
  },
  {
   "cell_type": "code",
   "execution_count": null,
   "metadata": {},
   "outputs": [],
   "source": [
    "d=get_edge_block_memberships(G.to_gt(), colors)"
   ]
  },
  {
   "cell_type": "code",
   "execution_count": null,
   "metadata": {},
   "outputs": [],
   "source": [
    "out_colors = np.zeros(G.num_nodes, dtype=np.uint32)\n",
    "in_colors = np.ones(G.num_nodes, dtype=np.uint32)\n",
    "for num_alternations in range(10):\n",
    "\n",
    "    edges_in = edges\n",
    "    edges_out = switch_in_out(edges)\n",
    "    in_colors = G.calc_wl(edges=edges_in, initial_colors=out_colors)[-1]\n",
    "    print(\"in\", in_colors)    \n",
    "    if num_alternations > 0 and (in_colors.max()==out_colors.max()):\n",
    "        break\n",
    "        \n",
    "\n",
    "    out_colors = G.calc_wl(edges=edges_out, initial_colors=in_colors)[-1]\n",
    "    print(\"out\", out_colors)\n",
    "    \n",
    "    if in_colors.max() == out_colors.max():\n",
    "        break"
   ]
  },
  {
   "cell_type": "code",
   "execution_count": null,
   "metadata": {},
   "outputs": [],
   "source": []
  }
 ],
 "metadata": {
  "kernelspec": {
   "display_name": "Python (conda_net)",
   "language": "python",
   "name": "conda_net"
  },
  "language_info": {
   "codemirror_mode": {
    "name": "ipython",
    "version": 3
   },
   "file_extension": ".py",
   "mimetype": "text/x-python",
   "name": "python",
   "nbconvert_exporter": "python",
   "pygments_lexer": "ipython3",
   "version": "3.8.5"
  }
 },
 "nbformat": 4,
 "nbformat_minor": 4
}
