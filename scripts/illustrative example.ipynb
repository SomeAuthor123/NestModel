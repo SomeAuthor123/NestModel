{
 "cells": [
  {
   "cell_type": "code",
   "execution_count": 1,
   "metadata": {},
   "outputs": [],
   "source": [
    "import networkx as nx"
   ]
  },
  {
   "cell_type": "code",
   "execution_count": 2,
   "metadata": {},
   "outputs": [],
   "source": [
    "import matplotlib.pyplot as plt\n",
    "from matplotlib.collections import PatchCollection\n",
    "from matplotlib.patches import Rectangle\n",
    "\n",
    "\n",
    "\n",
    "from cc_model.wl import WL"
   ]
  },
  {
   "cell_type": "code",
   "execution_count": 3,
   "metadata": {},
   "outputs": [],
   "source": [
    "\n",
    "nodes = list(range(0,9))\n",
    "#edges = [(0,2), (1,3),  (2,5), (3,4), (4,6), (4,7), (5,8), (5,9), (6,10), (7,10), (8,9), ]\n",
    "edges = [(2,5), (3,4), (4,6), (4,7), (5,8), (5,9), (6,10), (7,10), (8,9), ]\n",
    "edges = [(i-2, j-2) for i,j in edges]\n",
    "G1 = nx.Graph()\n",
    "G1.add_nodes_from(nodes)\n",
    "G1.add_edges_from(edges)"
   ]
  },
  {
   "cell_type": "code",
   "execution_count": 4,
   "metadata": {},
   "outputs": [],
   "source": [
    "from itertools import product\n",
    "def split_edges(G):\n",
    "    edges = list(map(tuple, G.edges))\n",
    "    print(G.edges)\n",
    "    affected_edges = list(product([4,5,6,7], [4,5,6,7]))\n",
    "    e1=[]\n",
    "    e2=[]\n",
    "    for edge in edges:\n",
    "        if edge in affected_edges:\n",
    "            print(edge[0])\n",
    "            if edge[0] > edge[1]:\n",
    "                e2.append(edge)\n",
    "            else:\n",
    "                e2.append((edge[1], edge[0]))\n",
    "        else:\n",
    "            e1.append(edge)\n",
    "    #nodes = list(G.nodes)\n",
    "    G2 = nx.Graph()\n",
    "    G2.add_nodes_from(nodes)\n",
    "    G2.add_edges_from(e1)\n",
    "\n",
    "    G3 = nx.DiGraph()\n",
    "    G3.add_nodes_from(nodes)\n",
    "    G3.add_edges_from(e2)\n",
    "    \n",
    "    return G2, G3"
   ]
  },
  {
   "cell_type": "code",
   "execution_count": 5,
   "metadata": {},
   "outputs": [
    {
     "name": "stdout",
     "output_type": "stream",
     "text": [
      "[(0, 3), (1, 2), (2, 4), (2, 5), (3, 6), (3, 7), (4, 8), (5, 8), (6, 7)]\n",
      "6\n"
     ]
    }
   ],
   "source": [
    "G2, G3 = split_edges(G1)"
   ]
  },
  {
   "cell_type": "code",
   "execution_count": 69,
   "metadata": {},
   "outputs": [],
   "source": [
    "#l = [0, 0, 1, 1, 2, 2, 3, 3, 3, 3, 3]\n",
    "#l = [0, 0, 1, 1, 2, 2, 2, 2, 2]\n",
    "_, wl_colors = WL(G1)\n",
    "l = wl_colors[1]\n",
    "color_map = [\"orange\", \"green\", \"red\", \"blue\"]\n",
    "node_colors = [color_map[l[x]] for x in nodes]"
   ]
  },
  {
   "cell_type": "code",
   "execution_count": 70,
   "metadata": {},
   "outputs": [],
   "source": [
    "plt.rcParams['hatch.linewidth'] = 10"
   ]
  },
  {
   "cell_type": "code",
   "execution_count": 71,
   "metadata": {},
   "outputs": [],
   "source": [
    "edge_width = 6\n",
    "with_labels=True\n",
    "node_size=400\n",
    "d=-0.6\n",
    "pos = {0:(0,4),\n",
    "       1:(0,2),\n",
    "       2:(2,4),\n",
    "       3:(2,2),\n",
    "       4:(4,4),\n",
    "       5:(4,2),\n",
    "       6:(6,4-d),\n",
    "       7:(6,4+d),\n",
    "       8:(6,2-d),\n",
    "       9:(6,2+d),\n",
    "       10:(8,4)}\n",
    "pos = {key-2:value for key, value in pos.items()}\n",
    "\n",
    "def plot(G):\n",
    "    G2, G3 = split_edges(G)\n",
    "    recs = [#Rectangle((0, 2), 2, 2,),\n",
    "             Rectangle((2, 2), 2, 2),\n",
    "             Rectangle((4, 1.25), 2, 3.5),\n",
    "             #Rectangle((6, 3.25), 2, 1.5)\n",
    "            Rectangle((6, 1.25), 2, 3.5)\n",
    "           ]\n",
    "    ax=plt.gca()\n",
    "    face_colors = [\"orange\", \"green\", \"red\"]\n",
    "    edge_colors = face_colors[1:]+[face_colors[-1]]\n",
    "    for rec, fc, ec in zip(recs, face_colors, edge_colors):\n",
    "        if fc == ec:# Mono colored graph\n",
    "            pc = PatchCollection([rec], alpha=0.6, facecolor=fc, edgecolor=None)\n",
    "        else:\n",
    "            pc = PatchCollection([rec], alpha=0.6, facecolor=fc, edgecolor=ec, hatch=r\"/\")\n",
    "\n",
    "\n",
    "        # Add collection to axes\n",
    "        ax.add_collection(pc)\n",
    "\n",
    "    nx.draw(G2, pos, node_color=node_colors, with_labels=with_labels, width=edge_width, node_size=node_size)\n",
    "    nx.draw_networkx_edges(\n",
    "        G3, pos,\n",
    "        connectionstyle=\"arc3,rad=0.5\",  # <-- THIS IS IT\n",
    "        arrowstyle=\"-\",\n",
    "        width = edge_width\n",
    "    )"
   ]
  },
  {
   "cell_type": "code",
   "execution_count": 72,
   "metadata": {},
   "outputs": [
    {
     "name": "stdout",
     "output_type": "stream",
     "text": [
      "[(0, 3), (1, 2), (2, 4), (2, 5), (3, 6), (3, 7), (4, 8), (5, 8), (6, 7)]\n",
      "6\n"
     ]
    },
    {
     "data": {
      "image/png": "[encoded data removed]",
      "text/plain": [
       "<Figure size 432x288 with 1 Axes>"
      ]
     },
     "metadata": {},
     "output_type": "display_data"
    }
   ],
   "source": [
    "plot(G1)"
   ]
  },
  {
   "cell_type": "code",
   "execution_count": null,
   "metadata": {},
   "outputs": [],
   "source": []
  },
  {
   "cell_type": "code",
   "execution_count": 10,
   "metadata": {},
   "outputs": [
    {
     "data": {
      "text/plain": [
       "(6,\n",
       " [array([0, 0, 0, 0, 0, 0, 0, 0, 0]),\n",
       "  array([0, 0, 1, 1, 2, 2, 2, 2, 2]),\n",
       "  array([0, 0, 1, 1, 2, 2, 2, 2, 3]),\n",
       "  array([0, 0, 1, 1, 2, 2, 3, 3, 4]),\n",
       "  array([0, 0, 1, 2, 3, 3, 4, 4, 5]),\n",
       "  array([0, 1, 2, 3, 4, 4, 5, 5, 6])])"
      ]
     },
     "execution_count": 10,
     "metadata": {},
     "output_type": "execute_result"
    }
   ],
   "source": [
    "WL(G1)"
   ]
  },
  {
   "cell_type": "code",
   "execution_count": 11,
   "metadata": {},
   "outputs": [
    {
     "data": {
      "text/plain": [
       "NodeView((0, 1, 2, 3, 4, 5, 6, 7, 8))"
      ]
     },
     "execution_count": 11,
     "metadata": {},
     "output_type": "execute_result"
    }
   ],
   "source": [
    "G1.nodes"
   ]
  },
  {
   "cell_type": "code",
   "execution_count": 12,
   "metadata": {},
   "outputs": [],
   "source": [
    "from cc_model.fast_graph import FastGraph\n",
    "import numpy as np"
   ]
  },
  {
   "cell_type": "code",
   "execution_count": 13,
   "metadata": {},
   "outputs": [
    {
     "name": "stdout",
     "output_type": "stream",
     "text": [
      "resetting\n",
      "array([[1, 2],\n",
      "       [0, 3],\n",
      "       [2, 4],\n",
      "       [2, 5],\n",
      "       [3, 6],\n",
      "       [3, 7],\n",
      "       [6, 7],\n",
      "       [4, 8],\n",
      "       [5, 8]], dtype=uint32)\n",
      "[[0 0 0 0 0 0 0 0 0]\n",
      " [0 0 1 1 1 1 2 2 2]\n",
      " [0 0 1 1 1 1 2 3 3]\n",
      " [0 0 1 1 2 2 3 4 4]\n",
      " [0 1 2 2 3 3 4 5 5]\n",
      " [0 1 2 2 3 3 4 5 5]]\n",
      "[[0 0 0 0 0 0 0 0 0]\n",
      " [0 0 1 1 2 2 2 2 2]\n",
      " [0 0 1 1 2 2 2 2 3]\n",
      " [0 0 1 1 2 2 3 3 4]\n",
      " [0 0 1 2 3 3 4 4 5]\n",
      " [0 1 2 3 4 4 5 5 6]]\n"
     ]
    }
   ],
   "source": [
    "G = FastGraph(np.array(edges, np.uint32), False)\n",
    "G.ensure_edges_prepared()\n",
    "print(repr(G.edges))\n",
    "print(G.edges_classes.T)\n",
    "print(G.calc_wl_arr())"
   ]
  },
  {
   "cell_type": "code",
   "execution_count": 14,
   "metadata": {},
   "outputs": [
    {
     "name": "stdout",
     "output_type": "stream",
     "text": [
      "True\n",
      "False\n",
      "True\n",
      "True\n"
     ]
    }
   ],
   "source": [
    "arr1 = np.array([1], dtype=np.uint32)\n",
    "print(arr1.dtype==np.uint32)\n",
    "\n",
    "arr2 = np.array([1], dtype=np.uint64)\n",
    "print(arr2.dtype==np.uint32)\n",
    "\n",
    "\n",
    "arr1 = np.array([1], dtype=np.uint32)\n",
    "print(arr1.dtype==np.uint32)\n",
    "arr1 = np.array([1], dtype=np.uint32)\n",
    "print(arr1.dtype==np.uint32)"
   ]
  },
  {
   "cell_type": "code",
   "execution_count": 15,
   "metadata": {},
   "outputs": [
    {
     "name": "stdout",
     "output_type": "stream",
     "text": [
      "[[1 2]\n",
      " [0 3]\n",
      " [2 4]\n",
      " [2 5]\n",
      " [3 6]\n",
      " [3 7]\n",
      " [6 7]\n",
      " [4 8]\n",
      " [5 8]]\n",
      "6\n"
     ]
    },
    {
     "data": {
      "image/png": "[encoded data removed]",
      "text/plain": [
       "<Figure size 432x288 with 1 Axes>"
      ]
     },
     "metadata": {},
     "output_type": "display_data"
    }
   ],
   "source": [
    "plot(G)"
   ]
  },
  {
   "cell_type": "code",
   "execution_count": 73,
   "metadata": {},
   "outputs": [
    {
     "name": "stdout",
     "output_type": "stream",
     "text": [
      "[[0 2]\n",
      " [2 6]\n",
      " [6 9]]\n",
      "{0: False, 2: True}\n",
      "0 2\n",
      "2 6\n",
      "6 9\n",
      "[[1 3]\n",
      " [0 2]\n",
      " [2 6]\n",
      " [2 7]\n",
      " [3 5]\n",
      " [3 4]\n",
      " [6 8]\n",
      " [4 7]\n",
      " [5 8]]\n",
      "4\n"
     ]
    },
    {
     "data": {
      "image/png": "[encoded data removed]",
      "text/plain": [
       "<Figure size 432x288 with 1 Axes>"
      ]
     },
     "metadata": {},
     "output_type": "display_data"
    }
   ],
   "source": [
    "G.rewire(1)\n",
    "plot(G)"
   ]
  },
  {
   "cell_type": "code",
   "execution_count": null,
   "metadata": {},
   "outputs": [],
   "source": []
  },
  {
   "cell_type": "code",
   "execution_count": null,
   "metadata": {},
   "outputs": [],
   "source": []
  },
  {
   "cell_type": "code",
   "execution_count": null,
   "metadata": {},
   "outputs": [],
   "source": []
  }
 ],
 "metadata": {
  "kernelspec": {
   "display_name": "Python (conda_net)",
   "language": "python",
   "name": "conda_net"
  },
  "language_info": {
   "codemirror_mode": {
    "name": "ipython",
    "version": 3
   },
   "file_extension": ".py",
   "mimetype": "text/x-python",
   "name": "python",
   "nbconvert_exporter": "python",
   "pygments_lexer": "ipython3",
   "version": "3.8.5"
  }
 },
 "nbformat": 4,
 "nbformat_minor": 4
}
