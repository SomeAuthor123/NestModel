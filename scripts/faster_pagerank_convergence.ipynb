{
 "cells": [
  {
   "cell_type": "code",
   "execution_count": 2,
   "metadata": {},
   "outputs": [],
   "source": [
    "from pathlib import Path\n",
    "from cc_model.load_datasets import load_gt_dataset_cached\n",
    "\n",
    "\n",
    "import graph_tool.all as gt\n",
    "from cc_model.wl import WL, labelings_are_equivalent\n",
    "from cc_model.fast_graph import FastGraph\n",
    "import numpy as np\n",
    "from datetime import datetime\n",
    "import pickle\n",
    "import matplotlib.pyplot as plt"
   ]
  },
  {
   "cell_type": "code",
   "execution_count": 3,
   "metadata": {},
   "outputs": [],
   "source": [
    "# Code that should make matplotlib use ACM font (libertine)\n",
    "import matplotlib\n",
    "\n",
    "rc_fonts = {\n",
    "    \"font.family\": \"serif\",\n",
    "    \"font.size\": 20,\n",
    "    'figure.figsize': (5, 3),\n",
    "    \"text.usetex\": True,\n",
    "    'text.latex.preamble': \n",
    "        r\"\"\"\n",
    "        \\usepackage{libertine}\n",
    "        \\usepackage[libertine]{newtxmath}\n",
    "        \"\"\",\n",
    "}\n",
    "matplotlib.rcParams.update(rc_fonts)"
   ]
  },
  {
   "cell_type": "code",
   "execution_count": 4,
   "metadata": {},
   "outputs": [],
   "source": [
    "datasets = [#\"karate\", \n",
    "#            \"phonecalls\",\n",
    "#            \"HepPh\", \n",
    "#            \"AstroPh\", \n",
    "            \"web-Google\",\n",
    "#             \"soc-Pokec\"\n",
    "#            \"deezer_HR\", \"deezer_HU\", \"deezer_RO\",\"tw_musae_DE\",\n",
    "#            \"tw_musae_ENGB\",\"tw_musae_FR\",\"lastfm_asia\",\"fb_ath\",\n",
    "#            \"fb_pol\", \"facebook_sc\"\n",
    "           ]"
   ]
  },
  {
   "cell_type": "code",
   "execution_count": 5,
   "metadata": {},
   "outputs": [],
   "source": [
    "dataset_path = Path(\"/home/felix/projects/colorful_configuration/datasets\")"
   ]
  },
  {
   "cell_type": "code",
   "execution_count": 6,
   "metadata": {},
   "outputs": [],
   "source": [
    "epsilon=1e-16\n",
    "max_iter = 1200\n",
    "alpha=0.85"
   ]
  },
  {
   "cell_type": "code",
   "execution_count": 7,
   "metadata": {},
   "outputs": [],
   "source": [
    "def rewire_run_pagerank_for_round(G, depth, in_base_pagerank, number_of_rewires=10, verbosity=0):\n",
    "    \"\"\" Calculate similarities in pagerank vectors for rewired G\n",
    "    G :      FastGraph\n",
    "    depth:    depth of WL iteration to be used\n",
    "    in_base_pagerank :    in pagerank of G\n",
    "    Generate synthethic networks which have the same WL colors as G\n",
    "      at specific depth and return absolute error sum\n",
    "    \"\"\"\n",
    "    pagerank_args = {\"mode\":\"in\",\n",
    "                     \"epsilon\":epsilon,\n",
    "                     \"max_iter\":max_iter,\n",
    "                     \"alpha\":alpha,\n",
    "                     \"return_err\":True}\n",
    "    \n",
    "    errors = []\n",
    "    for i in range(number_of_rewires):\n",
    "        G.rewire(depth)\n",
    "        \n",
    "        in_pagerank, err = G.calc_pagerank(**pagerank_args)\n",
    "        \n",
    "        if verbosity > 0:\n",
    "            print(\"the error in pagerank is:\\r\\n\", err)\n",
    "        if err < 0:\n",
    "            print(\"did not converge!\"+str(err))\n",
    "        pagerank_diff = np.sum(np.abs(in_base_pagerank-in_pagerank))\n",
    "        errors.append(pagerank_diff)\n",
    "\n",
    "    return errors"
   ]
  },
  {
   "cell_type": "code",
   "execution_count": 8,
   "metadata": {},
   "outputs": [],
   "source": [
    "def compute_pagerank_on_all_datasets(n_rewires, verbosity=0):\n",
    "    \"\"\" computes pagerank and compares it with rewired graphs\n",
    "    \"\"\"\n",
    "    list_values = []\n",
    "    list_stds = []\n",
    "    for dataset in datasets:\n",
    "        if dataset is None:\n",
    "            list_means.append([])\n",
    "            list_stds.append([])\n",
    "            continue\n",
    "        if verbosity > 0:\n",
    "            print(dataset)\n",
    "        G_base = load_gt_dataset_cached(dataset_path,\n",
    "                                        dataset,\n",
    "                                        verbosity=verbosity,\n",
    "                                        force_reload=False)\n",
    "        edges = np.array(G_base.get_edges(), dtype=np.uint32)\n",
    "\n",
    "\n",
    "        \n",
    "        G = FastGraph(edges, G_base.is_directed())\n",
    "\n",
    "        values = get_SAE_for_iterations(G,\n",
    "                                        n_rewires=n_rewires,)\n",
    "        list_values.append(values)\n",
    "    return list_values"
   ]
  },
  {
   "cell_type": "code",
   "execution_count": 59,
   "metadata": {},
   "outputs": [],
   "source": [
    "def get_SAE_for_iterations(G, n_rewires):\n",
    "    values = []\n",
    "    G.ensure_edges_prepared(initial_colors=\"out_degree\")\n",
    "    print(G.dead_arr.sum(axis=1)/G._edges.shape[0])\n",
    "    in_base_pagerank, _ = G.calc_pagerank(\"base in\",\n",
    "                                          epsilon=epsilon,\n",
    "                                          max_iter=max_iter,\n",
    "                                          alpha=alpha,\n",
    "                                          return_err=True)\n",
    "    \n",
    "    for WL_round in range(G.wl_iterations-1,-1,-1):\n",
    "        if verbosity>0:\n",
    "            print(\"WL round\", WL_round)\n",
    "\n",
    "        SAEs = rewire_run_pagerank_for_round(G,\n",
    "                                             WL_round,\n",
    "                                             in_base_pagerank,\n",
    "                                             number_of_rewires=n_rewires,\n",
    "                                             verbosity=0)\n",
    "        values.append(SAEs)\n",
    "    return values"
   ]
  },
  {
   "cell_type": "code",
   "execution_count": 60,
   "metadata": {
    "scrolled": false
   },
   "outputs": [
    {
     "name": "stdout",
     "output_type": "stream",
     "text": [
      "web-Google\n",
      "resetting\n",
      "[0.00434257 0.81232328 0.84630225 0.84776767 0.84795513 0.84803642\n",
      " 0.84808735 0.84812594 0.84814181 0.84815023 0.84815454 0.84815748\n",
      " 0.84815885 0.84816042 0.8481614  0.84816335 0.84816433 0.84816512\n",
      " 0.84816551 0.8481659  0.84816629 0.84816668 0.84816708 0.84816766\n",
      " 0.84816786 0.84816806 0.84816845 0.84816845]\n",
      "WL round 27\n",
      "WL round 26\n",
      "WL round 25\n",
      "WL round 24\n"
     ]
    },
    {
     "ename": "KeyboardInterrupt",
     "evalue": "",
     "output_type": "error",
     "traceback": [
      "\u001b[0;31m---------------------------------------------------------------------------\u001b[0m",
      "\u001b[0;31mKeyboardInterrupt\u001b[0m                         Traceback (most recent call last)",
      "\u001b[0;32m<ipython-input-60-02c96edc0468>\u001b[0m in \u001b[0;36m<module>\u001b[0;34m\u001b[0m\n\u001b[1;32m      1\u001b[0m \u001b[0mverbosity\u001b[0m\u001b[0;34m=\u001b[0m\u001b[0;36m1\u001b[0m\u001b[0;34m\u001b[0m\u001b[0;34m\u001b[0m\u001b[0m\n\u001b[1;32m      2\u001b[0m \u001b[0mnumber_of_samples\u001b[0m \u001b[0;34m=\u001b[0m \u001b[0;36m10\u001b[0m\u001b[0;34m\u001b[0m\u001b[0;34m\u001b[0m\u001b[0m\n\u001b[0;32m----> 3\u001b[0;31m \u001b[0mlist_values\u001b[0m \u001b[0;34m=\u001b[0m \u001b[0mcompute_pagerank_on_all_datasets\u001b[0m\u001b[0;34m(\u001b[0m\u001b[0mnumber_of_samples\u001b[0m\u001b[0;34m,\u001b[0m \u001b[0mverbosity\u001b[0m\u001b[0;34m=\u001b[0m\u001b[0;36m1\u001b[0m\u001b[0;34m)\u001b[0m\u001b[0;34m\u001b[0m\u001b[0;34m\u001b[0m\u001b[0m\n\u001b[0m",
      "\u001b[0;32m<ipython-input-58-21dac9a26399>\u001b[0m in \u001b[0;36mcompute_pagerank_on_all_datasets\u001b[0;34m(n_rewires, verbosity)\u001b[0m\n\u001b[1;32m     21\u001b[0m         \u001b[0mG\u001b[0m \u001b[0;34m=\u001b[0m \u001b[0mFastGraph\u001b[0m\u001b[0;34m(\u001b[0m\u001b[0medges\u001b[0m\u001b[0;34m,\u001b[0m \u001b[0mG_base\u001b[0m\u001b[0;34m.\u001b[0m\u001b[0mis_directed\u001b[0m\u001b[0;34m(\u001b[0m\u001b[0;34m)\u001b[0m\u001b[0;34m)\u001b[0m\u001b[0;34m\u001b[0m\u001b[0;34m\u001b[0m\u001b[0m\n\u001b[1;32m     22\u001b[0m \u001b[0;34m\u001b[0m\u001b[0m\n\u001b[0;32m---> 23\u001b[0;31m         values = get_SAE_for_iterations(G,\n\u001b[0m\u001b[1;32m     24\u001b[0m                                         n_rewires=n_rewires,)\n\u001b[1;32m     25\u001b[0m         \u001b[0mlist_values\u001b[0m\u001b[0;34m.\u001b[0m\u001b[0mappend\u001b[0m\u001b[0;34m(\u001b[0m\u001b[0mvalues\u001b[0m\u001b[0;34m)\u001b[0m\u001b[0;34m\u001b[0m\u001b[0;34m\u001b[0m\u001b[0m\n",
      "\u001b[0;32m<ipython-input-59-b97e428546f2>\u001b[0m in \u001b[0;36mget_SAE_for_iterations\u001b[0;34m(G, n_rewires)\u001b[0m\n\u001b[1;32m     13\u001b[0m             \u001b[0mprint\u001b[0m\u001b[0;34m(\u001b[0m\u001b[0;34m\"WL round\"\u001b[0m\u001b[0;34m,\u001b[0m \u001b[0mWL_round\u001b[0m\u001b[0;34m)\u001b[0m\u001b[0;34m\u001b[0m\u001b[0;34m\u001b[0m\u001b[0m\n\u001b[1;32m     14\u001b[0m \u001b[0;34m\u001b[0m\u001b[0m\n\u001b[0;32m---> 15\u001b[0;31m         SAEs = rewire_run_pagerank_for_round(G,\n\u001b[0m\u001b[1;32m     16\u001b[0m                                              \u001b[0mWL_round\u001b[0m\u001b[0;34m,\u001b[0m\u001b[0;34m\u001b[0m\u001b[0;34m\u001b[0m\u001b[0m\n\u001b[1;32m     17\u001b[0m                                              \u001b[0min_base_pagerank\u001b[0m\u001b[0;34m,\u001b[0m\u001b[0;34m\u001b[0m\u001b[0;34m\u001b[0m\u001b[0m\n",
      "\u001b[0;32m<ipython-input-57-f15956f8a88e>\u001b[0m in \u001b[0;36mrewire_run_pagerank_for_round\u001b[0;34m(G, depth, in_base_pagerank, number_of_rewires, verbosity)\u001b[0m\n\u001b[1;32m     17\u001b[0m         \u001b[0mG\u001b[0m\u001b[0;34m.\u001b[0m\u001b[0mrewire\u001b[0m\u001b[0;34m(\u001b[0m\u001b[0mdepth\u001b[0m\u001b[0;34m)\u001b[0m\u001b[0;34m\u001b[0m\u001b[0;34m\u001b[0m\u001b[0m\n\u001b[1;32m     18\u001b[0m \u001b[0;34m\u001b[0m\u001b[0m\n\u001b[0;32m---> 19\u001b[0;31m         \u001b[0min_pagerank\u001b[0m\u001b[0;34m,\u001b[0m \u001b[0merr\u001b[0m \u001b[0;34m=\u001b[0m \u001b[0mG\u001b[0m\u001b[0;34m.\u001b[0m\u001b[0mcalc_pagerank\u001b[0m\u001b[0;34m(\u001b[0m\u001b[0;34m**\u001b[0m\u001b[0mpagerank_args\u001b[0m\u001b[0;34m)\u001b[0m\u001b[0;34m\u001b[0m\u001b[0;34m\u001b[0m\u001b[0m\n\u001b[0m\u001b[1;32m     20\u001b[0m \u001b[0;34m\u001b[0m\u001b[0m\n\u001b[1;32m     21\u001b[0m         \u001b[0;32mif\u001b[0m \u001b[0mverbosity\u001b[0m \u001b[0;34m>\u001b[0m \u001b[0;36m0\u001b[0m\u001b[0;34m:\u001b[0m\u001b[0;34m\u001b[0m\u001b[0;34m\u001b[0m\u001b[0m\n",
      "\u001b[0;32m~/projects/colorful_configuration/cc_model/fast_graph.py\u001b[0m in \u001b[0;36mcalc_pagerank\u001b[0;34m(self, mode, epsilon, max_iter, alpha, return_err)\u001b[0m\n\u001b[1;32m     98\u001b[0m                 \u001b[0medges\u001b[0m \u001b[0;34m=\u001b[0m \u001b[0mswitch_in_out\u001b[0m\u001b[0;34m(\u001b[0m\u001b[0medges\u001b[0m\u001b[0;34m)\u001b[0m\u001b[0;34m\u001b[0m\u001b[0;34m\u001b[0m\u001b[0m\n\u001b[1;32m     99\u001b[0m \u001b[0;34m\u001b[0m\u001b[0m\n\u001b[0;32m--> 100\u001b[0;31m             vector, err =  pagerank_numba_dir(edges,\n\u001b[0m\u001b[1;32m    101\u001b[0m                                                \u001b[0mcorr_degree\u001b[0m\u001b[0;34m,\u001b[0m\u001b[0;34m\u001b[0m\u001b[0;34m\u001b[0m\u001b[0m\n\u001b[1;32m    102\u001b[0m                                                \u001b[0mdead_ends\u001b[0m\u001b[0;34m,\u001b[0m\u001b[0;34m\u001b[0m\u001b[0;34m\u001b[0m\u001b[0m\n",
      "\u001b[0;31mKeyboardInterrupt\u001b[0m: "
     ]
    }
   ],
   "source": [
    "\n",
    "verbosity=1\n",
    "number_of_samples = 10\n",
    "list_values = compute_pagerank_on_all_datasets(number_of_samples, verbosity=1)"
   ]
  },
  {
   "cell_type": "code",
   "execution_count": null,
   "metadata": {},
   "outputs": [],
   "source": []
  },
  {
   "cell_type": "code",
   "execution_count": null,
   "metadata": {},
   "outputs": [],
   "source": [
    "print()\n",
    "now = datetime.now()\n",
    "if number_of_samples > 10:\n",
    "    save_prefix = now.strftime(\"%Y_%m_%d__%H_%M_%S\")\n",
    "    out_name = \"./results/\"+\"_pagerank_\"+save_prefix+\".pkl\"\n",
    "    print(out_name)\n",
    "    with open(out_name, \"wb\") as f:\n",
    "        pickle.dump((list_values, datasets), f)"
   ]
  },
  {
   "cell_type": "code",
   "execution_count": null,
   "metadata": {},
   "outputs": [],
   "source": []
  },
  {
   "cell_type": "code",
   "execution_count": 9,
   "metadata": {},
   "outputs": [],
   "source": [
    "def get_mean_std(list_values):\n",
    "    list_means = []\n",
    "    list_stds0 = []\n",
    "    list_stds1 = []\n",
    "\n",
    "    for values in list_values:\n",
    "        mean = np.mean(values)+1e-20\n",
    "        quantiles = np.quantile(values, [0.5-0.68/2, 0.5+0.68/2,])\n",
    "        list_means.append(mean)\n",
    "        list_stds0.append(quantiles[0])\n",
    "        list_stds1.append(quantiles[1])\n",
    "    list_stds = [list_stds0[::-1], list_stds1[::-1]]\n",
    "    return list_means[::-1], list_stds\n",
    "\n",
    "def quickplot(list_values, datasets, show_alpha=False, save_date=None, xlim=None):\n",
    "    plt.figure(figsize=(10,6))\n",
    "    if show_alpha:\n",
    "        x=np.linspace(0,15)\n",
    "        y=2 *alpha**(x+1)\n",
    "        plt.plot(x,y)\n",
    "    \n",
    "    markers = [\".\", \"o\", \"<\", \"s\", \"*\"]\n",
    "    markers2 = [\"^\", \"o\", \"+\", \"x\", \"_\"]\n",
    "    marker_sizes = 6*np.array([1.4, 1, 1.5, 1, 1.9,])\n",
    "    \n",
    "\n",
    "\n",
    "    for values, label, marker, ms in zip(list_values, datasets, markers2, marker_sizes):\n",
    "        means, stds = get_mean_std(values)\n",
    "        plt.errorbar(x=np.arange(len(means)),y=means, yerr=stds, label=label, fmt=marker+\"--\", markersize=ms)\n",
    "\n",
    "\n",
    "    plt.ylabel(\"SAE of PageRank centrality\")\n",
    "    plt.xlabel(\"depth $d$\")\n",
    "    if xlim is not None:\n",
    "        plt.xlim(*xlim)\n",
    "    plt.yscale(\"log\")\n",
    "    plt.legend()\n",
    "    #\n",
    "    if save_date is None:\n",
    "        plt.title(\"Convergence of pagerank for synthetic networks \")\n",
    "    else:\n",
    "        time_str = save_date.strftime(\"%Y_%m_%d__%H_%M_%S\")\n",
    "        plt.savefig(Path(\".\")/Path('images')/f'pagerank_{time_str}.pdf', bbox_inches = 'tight')"
   ]
  },
  {
   "cell_type": "code",
   "execution_count": null,
   "metadata": {},
   "outputs": [],
   "source": [
    "quickplot(list_values, datasets, show_alpha=False, save_date=datetime.now())"
   ]
  },
  {
   "cell_type": "code",
   "execution_count": 15,
   "metadata": {},
   "outputs": [],
   "source": [
    "load_dataset=True\n",
    "if load_dataset:\n",
    "    load_date = datetime(2022,1,13,14,50,38)\n",
    "    save_prefix = load_date.strftime(\"%Y_%m_%d__%H_%M_%S\")\n",
    "    with open(\"./results/\"+\"_pagerank_\"+save_prefix+\".pkl\", \"rb\") as f:\n",
    "        (list_values2,  datasets2) = pickle.load(f)"
   ]
  },
  {
   "cell_type": "code",
   "execution_count": 19,
   "metadata": {},
   "outputs": [
    {
     "data": {
      "image/png": "[encoded data removed]",
      "text/plain": [
       "<Figure size 720x432 with 1 Axes>"
      ]
     },
     "metadata": {
      "needs_background": "light"
     },
     "output_type": "display_data"
    }
   ],
   "source": [
    "quickplot(list_values2, datasets2, show_alpha=False, save_date=load_date, xlim=(-0.3,15.3))"
   ]
  },
  {
   "cell_type": "code",
   "execution_count": 17,
   "metadata": {},
   "outputs": [
    {
     "data": {
      "text/plain": [
       "['phonecalls', 'HepPh', 'AstroPh', 'web-Google', 'soc-Pokec']"
      ]
     },
     "execution_count": 17,
     "metadata": {},
     "output_type": "execute_result"
    }
   ],
   "source": [
    "datasets2"
   ]
  },
  {
   "cell_type": "code",
   "execution_count": null,
   "metadata": {},
   "outputs": [],
   "source": []
  }
 ],
 "metadata": {
  "kernelspec": {
   "display_name": "Python (conda_net)",
   "language": "python",
   "name": "conda_net"
  },
  "language_info": {
   "codemirror_mode": {
    "name": "ipython",
    "version": 3
   },
   "file_extension": ".py",
   "mimetype": "text/x-python",
   "name": "python",
   "nbconvert_exporter": "python",
   "pygments_lexer": "ipython3",
   "version": "3.8.5"
  }
 },
 "nbformat": 4,
 "nbformat_minor": 4
}
