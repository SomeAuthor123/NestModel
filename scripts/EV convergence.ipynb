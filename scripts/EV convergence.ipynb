{
 "cells": [
  {
   "cell_type": "code",
   "execution_count": 1,
   "metadata": {},
   "outputs": [],
   "source": [
    "from pathlib import Path\n",
    "from cc_model.load_datasets import load_gt_dataset_cached\n",
    "\n",
    "\n",
    "import graph_tool.all as gt\n",
    "from cc_model.wl import WL, labelings_are_equivalent\n",
    "from cc_model.fast_graph import FastGraph\n",
    "import numpy as np\n",
    "from datetime import datetime\n",
    "import pickle\n",
    "import matplotlib.pyplot as plt"
   ]
  },
  {
   "cell_type": "code",
   "execution_count": 2,
   "metadata": {},
   "outputs": [],
   "source": [
    "# Code that should make matplotlib use ACM font (libertine)\n",
    "import matplotlib\n",
    "\n",
    "rc_fonts = {\n",
    "    \"font.family\": \"serif\",\n",
    "    \"font.size\": 20,\n",
    "    'figure.figsize': (5, 3),\n",
    "    \"text.usetex\": True,\n",
    "    'text.latex.preamble': \n",
    "        r\"\"\"\n",
    "        \\usepackage{libertine}\n",
    "        \\usepackage[libertine]{newtxmath}\n",
    "        \"\"\",\n",
    "}\n",
    "matplotlib.rcParams.update(rc_fonts)"
   ]
  },
  {
   "cell_type": "code",
   "execution_count": 3,
   "metadata": {},
   "outputs": [],
   "source": [
    "datasets = [\"karate\", \n",
    "            \"phonecalls\",\n",
    "            \"HepPh\", \n",
    "            \"AstroPh\", \n",
    "#            \"web-Google\",\n",
    "#             \"soc-Pokec\"\n",
    "#            \"deezer_HR\", \"deezer_HU\", \"deezer_RO\",\"tw_musae_DE\",\n",
    "#            \"tw_musae_ENGB\",\"tw_musae_FR\",\"lastfm_asia\",\"fb_ath\",\n",
    "#            \"fb_pol\", \"facebook_sc\"\n",
    "           ]"
   ]
  },
  {
   "cell_type": "code",
   "execution_count": 4,
   "metadata": {},
   "outputs": [],
   "source": [
    "dataset_path = Path(\"/home/felix/projects/colorful_configuration/datasets\")"
   ]
  },
  {
   "cell_type": "code",
   "execution_count": 19,
   "metadata": {},
   "outputs": [],
   "source": [
    "epsilon=1e-15\n",
    "max_iter = 600"
   ]
  },
  {
   "cell_type": "code",
   "execution_count": 20,
   "metadata": {},
   "outputs": [],
   "source": [
    "def rewire_run_pagerank_for_round(G, depth, in_base_pagerank, number_of_rewires=10, verbosity=0):\n",
    "    \"\"\" Calculate similarities in pagerank vectors for rewired G\n",
    "    G :      FastGraph\n",
    "    depth:    depth of WL iteration to be used\n",
    "    in_base_pagerank :    in pagerank of G\n",
    "    Generate synthethic networks which have the same WL colors as G\n",
    "      at specific depth and return absolute error sum\n",
    "    \"\"\"\n",
    "    pagerank_args = {\"mode\":\"in\",\n",
    "                     \"epsilon\":epsilon,\n",
    "                     \"max_iter\":max_iter,\n",
    "                     \"return_err\":True}\n",
    "    \n",
    "    errors = []\n",
    "    for i in range(number_of_rewires):\n",
    "        G.rewire(depth)\n",
    "        \n",
    "        in_pagerank, err = G.calc_ev(**pagerank_args)\n",
    "        if err<0:\n",
    "            print(\"iteration did not converge, err was\", err)\n",
    "            #eigenvalue = get_eigenvalue(G)\n",
    "        if verbosity > 0:\n",
    "            print(\"the error in pagerank is:\\r\\n\", err)\n",
    "        pagerank_diff = np.sum(np.abs(in_base_pagerank-in_pagerank))\n",
    "        errors.append(pagerank_diff)\n",
    "\n",
    "    return errors"
   ]
  },
  {
   "cell_type": "code",
   "execution_count": 21,
   "metadata": {},
   "outputs": [],
   "source": [
    "def compute_ev_on_all_datasets(n_rewires, verbosity=0):\n",
    "    \"\"\" computes pagerank and compares it with rewired graphs\n",
    "    \"\"\"\n",
    "    list_values = []\n",
    "    list_stds = []\n",
    "    for dataset in datasets:\n",
    "        if dataset is None:\n",
    "            list_means.append([])\n",
    "            list_stds.append([])\n",
    "            continue\n",
    "        if verbosity > 0:\n",
    "            print(dataset)\n",
    "        G_base = load_gt_dataset_cached(dataset_path,\n",
    "                                        dataset,\n",
    "                                        verbosity=verbosity,\n",
    "                                        force_reload=False)\n",
    "        edges = np.array(G_base.get_edges(), dtype=np.uint32)\n",
    "        \n",
    "        G = FastGraph(edges, G_base.is_directed())\n",
    "        #print(G.__dict__)\n",
    "        #print(G.out_degree)\n",
    "        #print(WL(G.to_gt()))\n",
    "        values = get_MAE_for_iterations(G,\n",
    "                                             n_rewires=n_rewires,)\n",
    "        \n",
    "\n",
    "        #print(WL_fast(to_symmetric_edges(G._edges)))\n",
    "        #print(G.base_partitions)\n",
    "        list_values.append(values)\n",
    "    return list_values"
   ]
  },
  {
   "cell_type": "code",
   "execution_count": 22,
   "metadata": {},
   "outputs": [],
   "source": [
    "def to_symmetric_edges(edges):\n",
    "    n_edges = edges.shape[0]\n",
    "    out = np.empty((2 * n_edges,2), dtype=edges.dtype)\n",
    "    out[:n_edges,:]=edges\n",
    "    out[n_edges:,1]=edges[:,0]\n",
    "    out[n_edges:,0]=edges[:,1]\n",
    "    return out"
   ]
  },
  {
   "cell_type": "code",
   "execution_count": null,
   "metadata": {},
   "outputs": [],
   "source": []
  },
  {
   "cell_type": "code",
   "execution_count": null,
   "metadata": {},
   "outputs": [],
   "source": []
  },
  {
   "cell_type": "code",
   "execution_count": 23,
   "metadata": {},
   "outputs": [],
   "source": [
    "def get_MAE_for_iterations(G, n_rewires):\n",
    "    values = []\n",
    "    G.ensure_edges_prepared(initial_colors=None)\n",
    "    #print(G.dead_arr.sum(axis=1)/G._edges.shape[0])\n",
    "    in_base_ev, err = G.calc_ev(\"base in\",\n",
    "                              epsilon=epsilon,\n",
    "                              max_iter=max_iter,\n",
    "                              return_err=True)\n",
    "    #G_gt = G.to_gt(switch=False)\n",
    "    #value, vector = gt.eigenvector(G_gt, epsilon = 1e-12)\n",
    "    #vector = np.array(vector.get_array())\n",
    "    #vector = vector/sum(vector)\n",
    "    #print(in_base_ev, err)\n",
    "    #print((in_base_ev - vector).max())\n",
    "    print(\"total WL iterations \", G.wl_iterations)\n",
    "    #print(G.base_partitions.shape)\n",
    "    #print(G.edges.shape)\n",
    "    for WL_round in range(G.wl_iterations-1,-1,-1):\n",
    "        if verbosity>0:\n",
    "            print(\"WL round\", WL_round)\n",
    "\n",
    "        MAEs = rewire_run_pagerank_for_round(G,\n",
    "                                             WL_round,\n",
    "                                             in_base_ev,\n",
    "                                             number_of_rewires=n_rewires,\n",
    "                                             verbosity=0)\n",
    "        #print(MAEs)\n",
    "        values.append(MAEs)\n",
    "    return values"
   ]
  },
  {
   "cell_type": "code",
   "execution_count": 24,
   "metadata": {},
   "outputs": [],
   "source": [
    "from cc_model.fast_wl import WL_fast\n"
   ]
  },
  {
   "cell_type": "code",
   "execution_count": 25,
   "metadata": {},
   "outputs": [
    {
     "name": "stdout",
     "output_type": "stream",
     "text": [
      "karate\n",
      "resetting\n",
      "total WL iterations  3\n",
      "WL round 2\n",
      "WL round 1\n",
      "WL round 0\n",
      "phonecalls\n",
      "resetting\n",
      "total WL iterations  9\n",
      "WL round 8\n",
      "WL round 7\n",
      "WL round 6\n",
      "WL round 5\n",
      "WL round 4\n",
      "WL round 3\n",
      "WL round 2\n",
      "WL round 1\n",
      "WL round 0\n",
      "iteration did not converge, err was -4.6904945889705943e-07\n",
      "iteration did not converge, err was -3.3637031207874725e-15\n",
      "iteration did not converge, err was -7.097180551556581e-15\n",
      "iteration did not converge, err was -1.6701993364453963e-13\n",
      "iteration did not converge, err was -5.808449701719771e-13\n",
      "iteration did not converge, err was -3.644413114935429e-13\n",
      "HepPh\n",
      "resetting\n",
      "total WL iterations  8\n",
      "WL round 7\n",
      "WL round 6\n",
      "WL round 5\n",
      "WL round 4\n",
      "WL round 3\n",
      "WL round 2\n",
      "iteration did not converge, err was -1.701356402033831e-14\n",
      "iteration did not converge, err was -9.538568145459361e-15\n",
      "iteration did not converge, err was -1.3076166469546865e-13\n",
      "iteration did not converge, err was -1.268688132741991e-14\n",
      "WL round 1\n",
      "WL round 0\n",
      "AstroPh\n",
      "resetting\n",
      "total WL iterations  5\n",
      "WL round 4\n",
      "WL round 3\n",
      "WL round 2\n",
      "WL round 1\n",
      "WL round 0\n"
     ]
    }
   ],
   "source": [
    "verbosity=1\n",
    "number_of_samples = 100\n",
    "list_values = compute_ev_on_all_datasets(number_of_samples, verbosity=1)"
   ]
  },
  {
   "cell_type": "code",
   "execution_count": 27,
   "metadata": {},
   "outputs": [
    {
     "name": "stdout",
     "output_type": "stream",
     "text": [
      "0.990990990990991\n",
      "0.9990108803165183\n",
      "0.9900990099009901\n"
     ]
    }
   ],
   "source": [
    "print(11/11.1)\n",
    "print(101/101.1)\n",
    "print(10/10.1)"
   ]
  },
  {
   "cell_type": "code",
   "execution_count": null,
   "metadata": {},
   "outputs": [],
   "source": [
    "now = datetime.now()\n",
    "if number_of_samples > 10:\n",
    "    save_prefix = now.strftime(\"%Y_%m_%d__%H_%M_%S\")\n",
    "    print(save_prefix)\n",
    "    with open(\"./results/\"+\"_eigenvector_\"+save_prefix+\".pkl\", \"wb\") as f:\n",
    "        pickle.dump((list_values, datasets), f)"
   ]
  },
  {
   "cell_type": "code",
   "execution_count": 29,
   "metadata": {},
   "outputs": [],
   "source": [
    "def get_mean_std(list_values):\n",
    "    list_means = []\n",
    "    list_stds0 = []\n",
    "    list_stds1 = []\n",
    "\n",
    "    for values in list_values:\n",
    "        mean = np.mean(values)+1e-20\n",
    "        quantiles = np.quantile(values, [0.5-0.68/2, 0.5+0.68/2,])\n",
    "        list_means.append(mean)\n",
    "        list_stds0.append(quantiles[0])\n",
    "        list_stds1.append(quantiles[1])\n",
    "    list_stds = [list_stds0[::-1], list_stds1[::-1]]\n",
    "    return list_means[::-1], list_stds\n",
    "\n",
    "def quickplot(list_values, datasets, show_alpha=False, save_date=None, xlim=None):\n",
    "    plt.figure(figsize=(10,6))\n",
    "    if show_alpha:\n",
    "        x=np.linspace(0,15)\n",
    "        y=2 *alpha**(x+1)\n",
    "        plt.plot(x,y)\n",
    "    \n",
    "    markers = [\".\", \"o\", \"<\", \"s\", \"*\"]\n",
    "    markers2 = [\"^\", \"o\", \"+\", \"x\", \"_\"]\n",
    "    marker_sizes = 6*np.array([1.4, 1, 1.5, 1, 1.9,])\n",
    "    \n",
    "\n",
    "\n",
    "    for values, label, marker, ms in zip(list_values, datasets, markers2, marker_sizes):\n",
    "        means, stds = get_mean_std(values)\n",
    "        plt.errorbar(x=np.arange(len(means)),y=means, yerr=stds, label=label, fmt=marker+\"--\", markersize=ms)\n",
    "\n",
    "\n",
    "    plt.ylabel(\"SAE of eigenvector centrality\")\n",
    "    plt.xlabel(\"depth $d$\")\n",
    "    if xlim is not None:\n",
    "        plt.xlim(*xlim)\n",
    "    plt.yscale(\"log\")\n",
    "    plt.legend()\n",
    "    #\n",
    "    if save_date is None:\n",
    "        plt.title(\"Convergence of eigenvector for synthetic networks \")\n",
    "    else:\n",
    "        time_str = save_date.strftime(\"%Y_%m_%d__%H_%M_%S\")\n",
    "        plt.savefig(Path(\".\")/Path('images')/f'eigenvector_{time_str}.pdf', bbox_inches = 'tight')\n",
    "    "
   ]
  },
  {
   "cell_type": "code",
   "execution_count": 30,
   "metadata": {},
   "outputs": [
    {
     "ename": "NameError",
     "evalue": "name 'list_values' is not defined",
     "output_type": "error",
     "traceback": [
      "\u001b[0;31m---------------------------------------------------------------------------\u001b[0m",
      "\u001b[0;31mNameError\u001b[0m                                 Traceback (most recent call last)",
      "\u001b[0;32m<ipython-input-30-bf75e5288e76>\u001b[0m in \u001b[0;36m<module>\u001b[0;34m\u001b[0m\n\u001b[0;32m----> 1\u001b[0;31m \u001b[0mquickplot\u001b[0m\u001b[0;34m(\u001b[0m\u001b[0mlist_values\u001b[0m\u001b[0;34m,\u001b[0m \u001b[0mdatasets\u001b[0m\u001b[0;34m,\u001b[0m \u001b[0mshow_alpha\u001b[0m\u001b[0;34m=\u001b[0m\u001b[0;32mFalse\u001b[0m\u001b[0;34m,\u001b[0m \u001b[0msave_date\u001b[0m\u001b[0;34m=\u001b[0m\u001b[0mdatetime\u001b[0m\u001b[0;34m.\u001b[0m\u001b[0mnow\u001b[0m\u001b[0;34m(\u001b[0m\u001b[0;34m)\u001b[0m\u001b[0;34m)\u001b[0m\u001b[0;34m\u001b[0m\u001b[0;34m\u001b[0m\u001b[0m\n\u001b[0m",
      "\u001b[0;31mNameError\u001b[0m: name 'list_values' is not defined"
     ]
    }
   ],
   "source": [
    "quickplot(list_values, datasets, show_alpha=False, save_date=datetime.now())"
   ]
  },
  {
   "cell_type": "code",
   "execution_count": 36,
   "metadata": {},
   "outputs": [],
   "source": [
    "load_dataset=True\n",
    "if load_dataset:\n",
    "    load_date = datetime(2022,1,7, 19,11,2)\n",
    "    save_prefix = load_date.strftime(\"%Y_%m_%d__%H_%M_%S\")\n",
    "    with open(\"./results/\"+\"_eigenvector_\"+save_prefix+\".pkl\", \"rb\") as f:\n",
    "        (list_values2, datasets2) = pickle.load(f)\n",
    "        if datasets2[0]==\"karate\":\n",
    "            datasets2=datasets2[1:]\n",
    "            list_values2=list_values2[1:]"
   ]
  },
  {
   "cell_type": "code",
   "execution_count": 39,
   "metadata": {},
   "outputs": [
    {
     "data": {
      "image/png": "[encoded data removed]",
      "text/plain": [
       "<Figure size 720x432 with 1 Axes>"
      ]
     },
     "metadata": {
      "needs_background": "light"
     },
     "output_type": "display_data"
    }
   ],
   "source": [
    "quickplot(list_values2, datasets2, save_date=load_date, xlim=(-0.3,10.3))"
   ]
  },
  {
   "cell_type": "code",
   "execution_count": null,
   "metadata": {},
   "outputs": [],
   "source": []
  }
 ],
 "metadata": {
  "kernelspec": {
   "display_name": "Python (conda_net)",
   "language": "python",
   "name": "conda_net"
  },
  "language_info": {
   "codemirror_mode": {
    "name": "ipython",
    "version": 3
   },
   "file_extension": ".py",
   "mimetype": "text/x-python",
   "name": "python",
   "nbconvert_exporter": "python",
   "pygments_lexer": "ipython3",
   "version": "3.8.5"
  }
 },
 "nbformat": 4,
 "nbformat_minor": 4
}
