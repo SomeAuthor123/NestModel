{
 "cells": [
  {
   "cell_type": "code",
   "execution_count": 188,
   "metadata": {},
   "outputs": [],
   "source": [
    "import networkx as nx\n",
    "import numpy as np"
   ]
  },
  {
   "cell_type": "code",
   "execution_count": 189,
   "metadata": {},
   "outputs": [],
   "source": [
    "G=nx.Graph()\n",
    "G.add_nodes_from([0,1,2,3,4])\n",
    "G.add_edges_from([(1,4), (0,4), (2,3)])"
   ]
  },
  {
   "cell_type": "code",
   "execution_count": 190,
   "metadata": {},
   "outputs": [],
   "source": [
    "from cc_model.wl import WL"
   ]
  },
  {
   "cell_type": "code",
   "execution_count": 191,
   "metadata": {},
   "outputs": [],
   "source": [
    "_, wl_colors = WL(G)"
   ]
  },
  {
   "cell_type": "code",
   "execution_count": 192,
   "metadata": {},
   "outputs": [
    {
     "data": {
      "text/plain": [
       "array([[0, 0, 0, 0, 1],\n",
       "       [0, 0, 0, 0, 1],\n",
       "       [0, 0, 0, 1, 0],\n",
       "       [0, 0, 1, 0, 0],\n",
       "       [1, 1, 0, 0, 0]])"
      ]
     },
     "execution_count": 192,
     "metadata": {},
     "output_type": "execute_result"
    }
   ],
   "source": [
    "A=np.array(nx.adjacency_matrix(G).todense())\n",
    "A"
   ]
  },
  {
   "cell_type": "code",
   "execution_count": 193,
   "metadata": {},
   "outputs": [],
   "source": [
    "def H(v, normalize=False):\n",
    "    n_rows = len(v)\n",
    "    n_cols = v.max()+1\n",
    "    \n",
    "    H = np.zeros((n_rows, n_cols), dtype=int)\n",
    "    print(H.shape)\n",
    "    for i,j in enumerate(v):\n",
    "        H[i,j]=1\n",
    "    if not normalize:\n",
    "        return H\n",
    "    else:\n",
    "        H_out = np.zeros(H.shape)\n",
    "        for i in range(n_cols):\n",
    "            x = np.sqrt(H[:,i].sum())\n",
    "            print(x)\n",
    "            H_out[:,i]=H[:,i]/x\n",
    "        return H_out"
   ]
  },
  {
   "cell_type": "code",
   "execution_count": 194,
   "metadata": {},
   "outputs": [
    {
     "name": "stdout",
     "output_type": "stream",
     "text": [
      "(5, 1)\n",
      "2.23606797749979\n",
      "(5, 2)\n",
      "2.0\n",
      "1.0\n",
      "(5, 3)\n",
      "1.4142135623730951\n",
      "1.4142135623730951\n",
      "1.0\n",
      "[[0.5 0. ]\n",
      " [0.5 0. ]\n",
      " [0.5 0. ]\n",
      " [0.5 0. ]\n",
      " [0.  1. ]]\n",
      "(5, 2)\n",
      "(5, 3)\n"
     ]
    }
   ],
   "source": [
    "H0 = H(wl_colors[0], normalize=True)\n",
    "H1 = H(wl_colors[1], normalize=True)\n",
    "H2 = H(wl_colors[2], normalize=True)\n",
    "print(H1)\n",
    "\n",
    "H1_ = H(wl_colors[1], normalize=False)\n",
    "H2_ = H(wl_colors[2], normalize=False)"
   ]
  },
  {
   "cell_type": "code",
   "execution_count": 195,
   "metadata": {},
   "outputs": [
    {
     "data": {
      "text/plain": [
       "array([[1., 0.],\n",
       "       [0., 1.]])"
      ]
     },
     "execution_count": 195,
     "metadata": {},
     "output_type": "execute_result"
    }
   ],
   "source": [
    "H1.T@H1"
   ]
  },
  {
   "cell_type": "code",
   "execution_count": 196,
   "metadata": {},
   "outputs": [
    {
     "data": {
      "text/plain": [
       "array([[0.70710678, 0.        , 0.        ],\n",
       "       [0.70710678, 0.        , 0.        ],\n",
       "       [0.        , 0.70710678, 0.        ],\n",
       "       [0.        , 0.70710678, 0.        ],\n",
       "       [0.        , 0.        , 1.        ]])"
      ]
     },
     "execution_count": 196,
     "metadata": {},
     "output_type": "execute_result"
    }
   ],
   "source": [
    "H2"
   ]
  },
  {
   "cell_type": "code",
   "execution_count": 197,
   "metadata": {},
   "outputs": [],
   "source": [
    "def to_vector(d):\n",
    "    v = np.empty(len(d))\n",
    "    for key, value in d.items():\n",
    "        v[key]=value\n",
    "    return v"
   ]
  },
  {
   "cell_type": "code",
   "execution_count": 198,
   "metadata": {},
   "outputs": [],
   "source": [
    "v = to_vector(nx.eigenvector_centrality(G))"
   ]
  },
  {
   "cell_type": "code",
   "execution_count": 199,
   "metadata": {},
   "outputs": [
    {
     "data": {
      "text/plain": [
       "array([5.00000000e-01, 5.00000000e-01, 1.06289242e-05, 1.06289242e-05,\n",
       "       7.07106781e-01])"
      ]
     },
     "execution_count": 199,
     "metadata": {},
     "output_type": "execute_result"
    }
   ],
   "source": [
    "v"
   ]
  },
  {
   "cell_type": "code",
   "execution_count": 200,
   "metadata": {},
   "outputs": [
    {
     "data": {
      "text/plain": [
       "array([ 0.24999469,  0.24999469, -0.24999469, -0.24999469,  0.        ])"
      ]
     },
     "execution_count": 200,
     "metadata": {},
     "output_type": "execute_result"
    }
   ],
   "source": [
    "v-H1@H1.T@v"
   ]
  },
  {
   "cell_type": "code",
   "execution_count": 201,
   "metadata": {},
   "outputs": [
    {
     "data": {
      "text/plain": [
       "array([1.11022302e-16, 1.11022302e-16, 1.69406589e-21, 1.69406589e-21,\n",
       "       0.00000000e+00])"
      ]
     },
     "execution_count": 201,
     "metadata": {},
     "output_type": "execute_result"
    }
   ],
   "source": [
    "v-H2@H2.T@v"
   ]
  },
  {
   "cell_type": "code",
   "execution_count": 202,
   "metadata": {},
   "outputs": [
    {
     "data": {
      "text/plain": [
       "array([[0, 1],\n",
       "       [0, 1],\n",
       "       [1, 0],\n",
       "       [1, 0],\n",
       "       [2, 0]])"
      ]
     },
     "execution_count": 202,
     "metadata": {},
     "output_type": "execute_result"
    }
   ],
   "source": [
    "A.T@H1_"
   ]
  },
  {
   "cell_type": "code",
   "execution_count": null,
   "metadata": {},
   "outputs": [],
   "source": []
  },
  {
   "cell_type": "code",
   "execution_count": 203,
   "metadata": {},
   "outputs": [
    {
     "name": "stdout",
     "output_type": "stream",
     "text": [
      "[[0 1]\n",
      " [1 0]\n",
      " [2 0]]\n"
     ]
    },
    {
     "data": {
      "text/plain": [
       "array([[0, 1],\n",
       "       [0, 1],\n",
       "       [1, 0],\n",
       "       [1, 0],\n",
       "       [2, 0]])"
      ]
     },
     "execution_count": 203,
     "metadata": {},
     "output_type": "execute_result"
    }
   ],
   "source": [
    "A2=np.zeros((3,2), dtype=int)\n",
    "A2[0,1]=1\n",
    "\n",
    "A2[1,0]=1\n",
    "A2[2,0]=2\n",
    "print(A2)\n",
    "H2_@A2"
   ]
  },
  {
   "cell_type": "code",
   "execution_count": 204,
   "metadata": {},
   "outputs": [
    {
     "data": {
      "text/plain": [
       "array([[1.41421356],\n",
       "       [1.41421356],\n",
       "       [1.        ]])"
      ]
     },
     "execution_count": 204,
     "metadata": {},
     "output_type": "execute_result"
    }
   ],
   "source": [
    "H2.T@np.ones((5,1))"
   ]
  },
  {
   "cell_type": "code",
   "execution_count": 205,
   "metadata": {},
   "outputs": [
    {
     "data": {
      "text/plain": [
       "(5, 3)"
      ]
     },
     "execution_count": 205,
     "metadata": {},
     "output_type": "execute_result"
    }
   ],
   "source": [
    "H2_.shape"
   ]
  },
  {
   "cell_type": "code",
   "execution_count": 206,
   "metadata": {},
   "outputs": [
    {
     "data": {
      "text/plain": [
       "array([[1.],\n",
       "       [1.],\n",
       "       [1.],\n",
       "       [1.],\n",
       "       [2.]])"
      ]
     },
     "execution_count": 206,
     "metadata": {},
     "output_type": "execute_result"
    }
   ],
   "source": [
    "A@np.ones((5,1))"
   ]
  },
  {
   "cell_type": "code",
   "execution_count": 207,
   "metadata": {},
   "outputs": [
    {
     "data": {
      "text/plain": [
       "array([[0.2, 0.2, 0.2, 0.2, 0.2],\n",
       "       [0.2, 0.2, 0.2, 0.2, 0.2],\n",
       "       [0.2, 0.2, 0.2, 0.2, 0.2],\n",
       "       [0.2, 0.2, 0.2, 0.2, 0.2],\n",
       "       [0.2, 0.2, 0.2, 0.2, 0.2]])"
      ]
     },
     "execution_count": 207,
     "metadata": {},
     "output_type": "execute_result"
    }
   ],
   "source": [
    "H0@H0.T"
   ]
  },
  {
   "cell_type": "code",
   "execution_count": 208,
   "metadata": {},
   "outputs": [
    {
     "data": {
      "text/plain": [
       "array([[0.25, 0.25, 0.25, 0.25, 0.  ],\n",
       "       [0.25, 0.25, 0.25, 0.25, 0.  ],\n",
       "       [0.25, 0.25, 0.25, 0.25, 0.  ],\n",
       "       [0.25, 0.25, 0.25, 0.25, 0.  ],\n",
       "       [0.  , 0.  , 0.  , 0.  , 1.  ]])"
      ]
     },
     "execution_count": 208,
     "metadata": {},
     "output_type": "execute_result"
    }
   ],
   "source": [
    "H1@H1.T"
   ]
  },
  {
   "cell_type": "code",
   "execution_count": 209,
   "metadata": {},
   "outputs": [
    {
     "data": {
      "text/plain": [
       "array([[1., 0.],\n",
       "       [0., 1.]])"
      ]
     },
     "execution_count": 209,
     "metadata": {},
     "output_type": "execute_result"
    }
   ],
   "source": [
    "H1.T@H1"
   ]
  },
  {
   "cell_type": "code",
   "execution_count": 210,
   "metadata": {},
   "outputs": [],
   "source": [
    "import numpy as np\n",
    "\n",
    "def arnoldi_iteration(A, b, n: int):\n",
    "    \"\"\"Computes a basis of the (n + 1)-Krylov subspace of A: the space\n",
    "    spanned by {b, Ab, ..., A^n b}.\n",
    "\n",
    "    Arguments\n",
    "      A: m × m array\n",
    "      b: initial vector (length m)\n",
    "      n: dimension of Krylov subspace, must be >= 1\n",
    "    \n",
    "    Returns\n",
    "      Q: m x (n + 1) array, the columns are an orthonormal basis of the\n",
    "        Krylov subspace.\n",
    "      h: (n + 1) x n array, A on basis Q. It is upper Hessenberg.  \n",
    "    \"\"\"\n",
    "    eps = 1e-12\n",
    "    h = np.zeros((n+1,n))\n",
    "    Q = np.zeros((A.shape[0],n+1))\n",
    "     # Normalize the input vector\n",
    "    Q[:,0] =b/np.linalg.norm(b,2)   # Use it as the first Krylov vector\n",
    "    for k in range(1,n+1):\n",
    "        v = np.dot(A,Q[:,k-1])  # Generate a new candidate vector\n",
    "        for j in range(k):  # Subtract the projections on previous vectors\n",
    "            h[j,k-1] = np.dot(Q[:,j].T, v)\n",
    "            v = v - h[j,k-1] * Q[:,j]\n",
    "        h[k,k-1] = np.linalg.norm(v,2)\n",
    "        if h[k,k-1] > eps:  # Add the produced vector to the list, unless\n",
    "            Q[:,k] = v/h[k,k-1]\n",
    "        else:  # If that happens, stop iterating.\n",
    "            return Q, h\n",
    "    return Q, h"
   ]
  },
  {
   "cell_type": "code",
   "execution_count": 211,
   "metadata": {},
   "outputs": [
    {
     "data": {
      "text/plain": [
       "(array([[ 4.47213595e-01, -2.23606798e-01,  5.00000000e-01,\n",
       "          0.00000000e+00],\n",
       "        [ 4.47213595e-01, -2.23606798e-01,  5.00000000e-01,\n",
       "          0.00000000e+00],\n",
       "        [ 4.47213595e-01, -2.23606798e-01, -5.00000000e-01,\n",
       "          0.00000000e+00],\n",
       "        [ 4.47213595e-01, -2.23606798e-01, -5.00000000e-01,\n",
       "          0.00000000e+00],\n",
       "        [ 4.47213595e-01,  8.94427191e-01,  1.98602732e-16,\n",
       "          0.00000000e+00]]),\n",
       " array([[ 1.20000000e+00,  4.00000000e-01,  3.88578059e-16],\n",
       "        [ 4.00000000e-01, -7.00000000e-01,  1.11803399e+00],\n",
       "        [ 0.00000000e+00,  1.11803399e+00,  5.00000000e-01],\n",
       "        [ 0.00000000e+00,  0.00000000e+00,  5.48159155e-16]]))"
      ]
     },
     "execution_count": 211,
     "metadata": {},
     "output_type": "execute_result"
    }
   ],
   "source": [
    "arnoldi_iteration(A, np.ones(A.shape[0]), 3)"
   ]
  },
  {
   "cell_type": "code",
   "execution_count": 212,
   "metadata": {},
   "outputs": [
    {
     "data": {
      "text/plain": [
       "(array([-1.41421356e+00, -1.00000000e+00, -6.07153217e-18,  1.00000000e+00,\n",
       "         1.41421356e+00]),\n",
       " array([[-0.5       , -0.        , -0.70710678,  0.        ,  0.5       ],\n",
       "        [-0.5       , -0.        ,  0.70710678,  0.        ,  0.5       ],\n",
       "        [ 0.        ,  0.70710678,  0.        , -0.70710678,  0.        ],\n",
       "        [ 0.        , -0.70710678,  0.        , -0.70710678,  0.        ],\n",
       "        [ 0.70710678,  0.        ,  0.        ,  0.        ,  0.70710678]]))"
      ]
     },
     "execution_count": 212,
     "metadata": {},
     "output_type": "execute_result"
    }
   ],
   "source": [
    "np.linalg.eigh(A)"
   ]
  },
  {
   "cell_type": "code",
   "execution_count": 217,
   "metadata": {},
   "outputs": [
    {
     "name": "stdout",
     "output_type": "stream",
     "text": [
      "[-1.41421356  1.          1.41421356]\n"
     ]
    }
   ],
   "source": [
    "V,B = np.linalg.eigh(H2.T@A@H2)\n",
    "print(V)"
   ]
  },
  {
   "cell_type": "code",
   "execution_count": 218,
   "metadata": {},
   "outputs": [
    {
     "data": {
      "text/plain": [
       "array([[-0.5       ,  0.        , -0.5       ],\n",
       "       [-0.5       ,  0.        , -0.5       ],\n",
       "       [ 0.        , -0.70710678,  0.        ],\n",
       "       [ 0.        , -0.70710678,  0.        ],\n",
       "       [ 0.70710678,  0.        , -0.70710678]])"
      ]
     },
     "execution_count": 218,
     "metadata": {},
     "output_type": "execute_result"
    }
   ],
   "source": [
    "H2@B"
   ]
  },
  {
   "cell_type": "code",
   "execution_count": 216,
   "metadata": {},
   "outputs": [
    {
     "data": {
      "text/plain": [
       "array([[1., 0.],\n",
       "       [0., 1.]])"
      ]
     },
     "execution_count": 216,
     "metadata": {},
     "output_type": "execute_result"
    }
   ],
   "source": [
    "H1.T@H1"
   ]
  },
  {
   "cell_type": "code",
   "execution_count": null,
   "metadata": {},
   "outputs": [],
   "source": []
  }
 ],
 "metadata": {
  "kernelspec": {
   "display_name": "Python (conda_net)",
   "language": "python",
   "name": "conda_net"
  },
  "language_info": {
   "codemirror_mode": {
    "name": "ipython",
    "version": 3
   },
   "file_extension": ".py",
   "mimetype": "text/x-python",
   "name": "python",
   "nbconvert_exporter": "python",
   "pygments_lexer": "ipython3",
   "version": "3.8.5"
  }
 },
 "nbformat": 4,
 "nbformat_minor": 4
}
